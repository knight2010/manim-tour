{
 "cells": [
  {
   "cell_type": "markdown",
   "id": "38425d8a-88e9-40c2-9457-9509813345e8",
   "metadata": {},
   "source": [
    "##第一道数学题\n",
    "```\n",
    "小米设密码 好123 可以开始\n",
    "```"
   ]
  },
  {
   "cell_type": "code",
   "execution_count": 4,
   "id": "ee3de4fb-4f6a-4457-858c-e91701ac0736",
   "metadata": {},
   "outputs": [],
   "source": [
    "import manim as mn\n",
    "from manim import *\n",
    "from reactive_manim import *\n",
    "\n",
    "config.verbosity = \"WARNING\""
   ]
  },
  {
   "cell_type": "code",
   "execution_count": 5,
   "id": "851132f8-719d-408c-bcc1-0f6ed336d2a8",
   "metadata": {},
   "outputs": [
    {
     "data": {
      "text/html": [
       "<pre style=\"white-space:pre;overflow-x:auto;line-height:normal;font-family:Menlo,'DejaVu Sans Mono',consolas,'Courier New',monospace\">Manim Community <span style=\"color: #008000; text-decoration-color: #008000\">v0.19.0</span>\n",
       "\n",
       "</pre>\n"
      ],
      "text/plain": [
       "Manim Community \u001b[32mv0.\u001b[0m\u001b[32m19.0\u001b[0m\n",
       "\n"
      ]
     },
     "metadata": {},
     "output_type": "display_data"
    },
    {
     "name": "stderr",
     "output_type": "stream",
     "text": [
      "                                                                                                                                                     "
     ]
    },
    {
     "data": {
      "text/html": [
       "<video src=\"media/jupyter/FormulaEmphasis@2025-10-24@07-36-18.mp4\" controls autoplay loop style=\"max-width: 60%;\"  >\n",
       "      Your browser does not support the <code>video</code> element.\n",
       "    </video>"
      ],
      "text/plain": [
       "<IPython.core.display.Video object>"
      ]
     },
     "metadata": {},
     "output_type": "display_data"
    }
   ],
   "source": [
    "%%manim -qm FormulaEmphasis\n",
    "\n",
    "class FormulaEmphasis(Scene):\n",
    "    def construct(self):\n",
    "        product_formula = MathTex(\n",
    "            r\"\\frac{d}{dx} f(x)g(x) =\",\n",
    "            r\"f(x) \\frac{d}{dx} g(x)\",\n",
    "            r\"+\",\n",
    "            r\"g(x) \\frac{d}{dx} f(x)\"\n",
    "        )\n",
    "        self.play(Write(product_formula))\n",
    "        box1 = SurroundingRectangle(product_formula[1], buff=0.1)\n",
    "        box2 = SurroundingRectangle(product_formula[3], buff=0.1)\n",
    "        self.play(Create(box1))\n",
    "        self.wait()\n",
    "        self.play(Transform(box1, box2))\n",
    "        self.wait()"
   ]
  },
  {
   "cell_type": "code",
   "execution_count": 6,
   "id": "ad046587-8da4-48ff-b744-bf9abcea685c",
   "metadata": {},
   "outputs": [],
   "source": [
    "\n",
    "class text_displayer:\n",
    "    \"\"\"\n",
    "    字幕替换封装\n",
    "    \"\"\"\n",
    "\n",
    "    def __init__(\n",
    "        self, sc: Scene, arr, start_position=UP * 3, display_length=1, buff=0.5\n",
    "    ) -> None:\n",
    "        \"\"\"\n",
    "        初始化\n",
    "\n",
    "        Parameters\n",
    "        ---------\n",
    "        sc\n",
    "            绘制字幕的场景\n",
    "        arr\n",
    "            字幕列表，是 list 类型\n",
    "        start_position\n",
    "            字幕开始位置，默认位置偏上 UP*3\n",
    "        display_length\n",
    "            最多显示字幕行数，超出时则隐藏最早的那一行，其他行相应移动位置\n",
    "        buff\n",
    "            每行字幕间隔的位置\n",
    "        \"\"\"\n",
    "        print('xxxx')\n",
    "        self.sc = sc  # 当前场景\n",
    "        self.text_arr = arr  # 所有文本\n",
    "        self.start_position: int = start_position  # 开始显示的位置\n",
    "        self.display_length: int = display_length  # 最多显示的行数\n",
    "        self.buff = buff  # 每行文本之间的间隔\n",
    "        self.cur_index: int = 0  # 当前的index\n",
    "\n",
    "    def next(self) -> bool:\n",
    "        print(\"comxxx\")\n",
    "        print(self.cur_index)\n",
    "        print(len(self.text_arr))\n",
    "        if self.cur_index >= len(self.text_arr):\n",
    "            print('false')\n",
    "            return False\n",
    "        print(\"begin \")\n",
    "            # 是否需要上移\n",
    "        if self.cur_index >= self.display_length:  # 已达到显示的最大值\n",
    "            print('1111')\n",
    "            # 清除第一层的文字\n",
    "            self.sc.play(FadeOut(self.text_arr[self.cur_index - self.display_length]))\n",
    "\n",
    "        # 上移已有的文字\n",
    "        for i in range(self.display_length - 1, 0, -1):\n",
    "            self.sc.play(\n",
    "                self.text_arr[self.cur_index - i].animate.move_to(\n",
    "                    self.start_position\n",
    "                    + DOWN * (self.display_length - 1 - i) * self.buff\n",
    "                )\n",
    "            )\n",
    "\n",
    "        # 显示当前行\n",
    "        d = self.cur_index // self.display_length\n",
    "        if d == 0:\n",
    "            self.sc.play(\n",
    "                Write(\n",
    "                    self.text_arr[self.cur_index].shift(\n",
    "                        self.start_position - UP * self.buff * self.cur_index\n",
    "                    )\n",
    "                )\n",
    "            )\n",
    "        else:\n",
    "            print('222')\n",
    "            self.sc.play(\n",
    "                Write(\n",
    "                    self.text_arr[self.cur_index].shift(\n",
    "                        self.start_position - UP * self.buff * (self.display_length - 1)\n",
    "                    )\n",
    "                )\n",
    "            )\n",
    "\n",
    "        self.cur_index += 1\n",
    "        return True\n",
    "\n",
    "\n"
   ]
  },
  {
   "cell_type": "code",
   "execution_count": 10,
   "id": "5ea51687-bb46-4a0a-bd42-3629653d674c",
   "metadata": {},
   "outputs": [
    {
     "data": {
      "text/html": [
       "<pre style=\"white-space:pre;overflow-x:auto;line-height:normal;font-family:Menlo,'DejaVu Sans Mono',consolas,'Courier New',monospace\">Manim Community <span style=\"color: #008000; text-decoration-color: #008000\">v0.19.0</span>\n",
       "\n",
       "</pre>\n"
      ],
      "text/plain": [
       "Manim Community \u001b[32mv0.\u001b[0m\u001b[32m19.0\u001b[0m\n",
       "\n"
      ]
     },
     "metadata": {},
     "output_type": "display_data"
    },
    {
     "name": "stdout",
     "output_type": "stream",
     "text": [
      "xxxx\n",
      "comxxx\n",
      "0\n",
      "9\n",
      "begin \n"
     ]
    },
    {
     "name": "stderr",
     "output_type": "stream",
     "text": [
      "                                                                               "
     ]
    },
    {
     "name": "stdout",
     "output_type": "stream",
     "text": [
      "comxxx\n",
      "1\n",
      "9\n",
      "begin \n",
      "1111\n"
     ]
    },
    {
     "name": "stderr",
     "output_type": "stream",
     "text": [
      "                                                                                 "
     ]
    },
    {
     "name": "stdout",
     "output_type": "stream",
     "text": [
      "222\n"
     ]
    },
    {
     "name": "stderr",
     "output_type": "stream",
     "text": [
      "                                                                       "
     ]
    },
    {
     "name": "stdout",
     "output_type": "stream",
     "text": [
      "comxxx\n",
      "2\n",
      "9\n",
      "begin \n",
      "1111\n"
     ]
    },
    {
     "name": "stderr",
     "output_type": "stream",
     "text": [
      "                                                                         "
     ]
    },
    {
     "name": "stdout",
     "output_type": "stream",
     "text": [
      "222\n"
     ]
    },
    {
     "name": "stderr",
     "output_type": "stream",
     "text": [
      "                                                                           "
     ]
    },
    {
     "name": "stdout",
     "output_type": "stream",
     "text": [
      "comxxx\n",
      "3\n",
      "9\n",
      "begin \n",
      "1111\n"
     ]
    },
    {
     "name": "stderr",
     "output_type": "stream",
     "text": [
      "                                                                             "
     ]
    },
    {
     "name": "stdout",
     "output_type": "stream",
     "text": [
      "222\n"
     ]
    },
    {
     "name": "stderr",
     "output_type": "stream",
     "text": [
      "                                                                           "
     ]
    },
    {
     "name": "stdout",
     "output_type": "stream",
     "text": [
      "comxxx\n",
      "4\n",
      "9\n",
      "begin \n",
      "1111\n"
     ]
    },
    {
     "name": "stderr",
     "output_type": "stream",
     "text": [
      "                                                                             "
     ]
    },
    {
     "name": "stdout",
     "output_type": "stream",
     "text": [
      "222\n"
     ]
    },
    {
     "name": "stderr",
     "output_type": "stream",
     "text": [
      "                                                                         "
     ]
    },
    {
     "name": "stdout",
     "output_type": "stream",
     "text": [
      "comxxx\n",
      "5\n",
      "9\n",
      "begin \n",
      "1111\n"
     ]
    },
    {
     "name": "stderr",
     "output_type": "stream",
     "text": [
      "                                                                                      "
     ]
    },
    {
     "name": "stdout",
     "output_type": "stream",
     "text": [
      "222\n"
     ]
    },
    {
     "name": "stderr",
     "output_type": "stream",
     "text": [
      "                                                                          "
     ]
    },
    {
     "name": "stdout",
     "output_type": "stream",
     "text": [
      "comxxx\n",
      "6\n",
      "9\n",
      "begin \n",
      "1111\n"
     ]
    },
    {
     "name": "stderr",
     "output_type": "stream",
     "text": [
      "                                                                            "
     ]
    },
    {
     "name": "stdout",
     "output_type": "stream",
     "text": [
      "222\n"
     ]
    },
    {
     "name": "stderr",
     "output_type": "stream",
     "text": [
      "                                                                           "
     ]
    },
    {
     "name": "stdout",
     "output_type": "stream",
     "text": [
      "comxxx\n",
      "7\n",
      "9\n",
      "begin \n",
      "1111\n"
     ]
    },
    {
     "name": "stderr",
     "output_type": "stream",
     "text": [
      "                                                                             "
     ]
    },
    {
     "name": "stdout",
     "output_type": "stream",
     "text": [
      "222\n"
     ]
    },
    {
     "name": "stderr",
     "output_type": "stream",
     "text": [
      "                                                                            "
     ]
    },
    {
     "name": "stdout",
     "output_type": "stream",
     "text": [
      "comxxx\n",
      "8\n",
      "9\n",
      "begin \n",
      "1111\n"
     ]
    },
    {
     "name": "stderr",
     "output_type": "stream",
     "text": [
      "                                                                              "
     ]
    },
    {
     "name": "stdout",
     "output_type": "stream",
     "text": [
      "222\n"
     ]
    },
    {
     "name": "stderr",
     "output_type": "stream",
     "text": [
      "                                                                                                                                                       "
     ]
    },
    {
     "name": "stdout",
     "output_type": "stream",
     "text": [
      "comxxx\n",
      "9\n",
      "9\n",
      "false\n",
      "xxxx\n",
      "comxxx\n",
      "0\n",
      "7\n",
      "begin \n"
     ]
    },
    {
     "name": "stderr",
     "output_type": "stream",
     "text": [
      "                                                                                       "
     ]
    },
    {
     "name": "stdout",
     "output_type": "stream",
     "text": [
      "comxxx\n",
      "1\n",
      "7\n",
      "begin \n",
      "1111\n"
     ]
    },
    {
     "name": "stderr",
     "output_type": "stream",
     "text": [
      "                                                                                         "
     ]
    },
    {
     "name": "stdout",
     "output_type": "stream",
     "text": [
      "222\n"
     ]
    },
    {
     "name": "stderr",
     "output_type": "stream",
     "text": [
      "                                                                                          "
     ]
    },
    {
     "name": "stdout",
     "output_type": "stream",
     "text": [
      "comxxx\n",
      "2\n",
      "7\n",
      "begin \n",
      "1111\n"
     ]
    },
    {
     "name": "stderr",
     "output_type": "stream",
     "text": [
      "                                                                                            "
     ]
    },
    {
     "name": "stdout",
     "output_type": "stream",
     "text": [
      "222\n"
     ]
    },
    {
     "name": "stderr",
     "output_type": "stream",
     "text": [
      "                                                                                     "
     ]
    },
    {
     "name": "stdout",
     "output_type": "stream",
     "text": [
      "comxxx\n",
      "3\n",
      "7\n",
      "begin \n",
      "1111\n"
     ]
    },
    {
     "name": "stderr",
     "output_type": "stream",
     "text": [
      "                                                                                       "
     ]
    },
    {
     "name": "stdout",
     "output_type": "stream",
     "text": [
      "222\n"
     ]
    },
    {
     "name": "stderr",
     "output_type": "stream",
     "text": [
      "                                                                                      "
     ]
    },
    {
     "name": "stdout",
     "output_type": "stream",
     "text": [
      "comxxx\n",
      "4\n",
      "7\n",
      "begin \n",
      "1111\n"
     ]
    },
    {
     "name": "stderr",
     "output_type": "stream",
     "text": [
      "                                                                                        "
     ]
    },
    {
     "name": "stdout",
     "output_type": "stream",
     "text": [
      "222\n"
     ]
    },
    {
     "name": "stderr",
     "output_type": "stream",
     "text": [
      "                                                                                    "
     ]
    },
    {
     "name": "stdout",
     "output_type": "stream",
     "text": [
      "comxxx\n",
      "5\n",
      "7\n",
      "begin \n",
      "1111\n"
     ]
    },
    {
     "name": "stderr",
     "output_type": "stream",
     "text": [
      "                                                                                      "
     ]
    },
    {
     "name": "stdout",
     "output_type": "stream",
     "text": [
      "222\n"
     ]
    },
    {
     "name": "stderr",
     "output_type": "stream",
     "text": [
      "                                                                                              "
     ]
    },
    {
     "name": "stdout",
     "output_type": "stream",
     "text": [
      "comxxx\n",
      "6\n",
      "7\n",
      "begin \n",
      "1111\n"
     ]
    },
    {
     "name": "stderr",
     "output_type": "stream",
     "text": [
      "                                                                                                "
     ]
    },
    {
     "name": "stdout",
     "output_type": "stream",
     "text": [
      "222\n"
     ]
    },
    {
     "name": "stderr",
     "output_type": "stream",
     "text": [
      "                                                                                   "
     ]
    },
    {
     "name": "stdout",
     "output_type": "stream",
     "text": [
      "comxxx\n",
      "7\n",
      "7\n",
      "false\n"
     ]
    },
    {
     "data": {
      "text/html": [
       "<video src=\"media/jupyter/Example@2025-10-24@07-47-45.mp4\" controls autoplay loop style=\"max-width: 60%;\"  >\n",
       "      Your browser does not support the <code>video</code> element.\n",
       "    </video>"
      ],
      "text/plain": [
       "<IPython.core.display.Video object>"
      ]
     },
     "metadata": {},
     "output_type": "display_data"
    }
   ],
   "source": [
    "%%manim -qm Example\n",
    "\n",
    "class Example(Scene):\n",
    "    def construct(self):\n",
    "        arr = [\n",
    "            Text(\"数学题要认真\", color=RED),\n",
    "            Text(\"听题\", color=YELLOW),\n",
    "            Text(\"抓住关键\", color=BLUE),\n",
    "            Text(\"小心地雷\", color=RED),\n",
    "            Text(\"好消息\", color=YELLOW),\n",
    "            Text(\"不得了\", color=BLUE),\n",
    "            Text(\"Alright\", color=RED),\n",
    "            Text(\"Good job\", color=YELLOW),\n",
    "            MathTex(\n",
    "            r\"\\frac{d}{dx} f(x)g(x) =\",\n",
    "            r\"f(x) \\frac{d}{dx} g(x)\",\n",
    "            r\"+\",\n",
    "            r\"g(x) \\frac{d}{dx} f(x)\"\n",
    "        )\n",
    "        ]\n",
    "\n",
    "        # 最多显示一行\n",
    "        td = text_displayer(self, arr, start_position=UP, display_length=1)\n",
    "\n",
    "        # 最多显示三行\n",
    "        # td = text_displayer(self, arr, start_position=UP, display_length=3)\n",
    "\n",
    "        while td.next():\n",
    "            pass\n",
    "\n",
    "        indications = [\n",
    "        # Indications that need only the Mobject to be highlighted\n",
    "        ApplyWave,\n",
    "        Circumscribe,\n",
    "        FocusOn,\n",
    "        Indicate,\n",
    "        Wiggle,\n",
    "        # Indications that need another argument\n",
    "        ShowPassingFlash, # This needs a background Mobject, such as Underline or a VMobject with surround\n",
    "        Flash, # This needs a coord\n",
    "        ]\n",
    "        names = [Tex(i.__name__).scale(3) for i in indications]\n",
    "        td2 = text_displayer(self, names, start_position=UP, display_length=1)\n",
    "        while td2.next():\n",
    "            pass"
   ]
  },
  {
   "cell_type": "code",
   "execution_count": 8,
   "id": "28341552-0d49-4157-91d6-c42ba2fce471",
   "metadata": {},
   "outputs": [
    {
     "data": {
      "text/html": [
       "<pre style=\"white-space:pre;overflow-x:auto;line-height:normal;font-family:Menlo,'DejaVu Sans Mono',consolas,'Courier New',monospace\">Manim Community <span style=\"color: #008000; text-decoration-color: #008000\">v0.19.0</span>\n",
       "\n",
       "</pre>\n"
      ],
      "text/plain": [
       "Manim Community \u001b[32mv0.\u001b[0m\u001b[32m19.0\u001b[0m\n",
       "\n"
      ]
     },
     "metadata": {},
     "output_type": "display_data"
    },
    {
     "data": {
      "image/png": "[encoded data removed]",
      "text/plain": [
       "<IPython.core.display.Image object>"
      ]
     },
     "metadata": {},
     "output_type": "display_data"
    }
   ],
   "source": [
    "%%manim -qm TestGlsl\n",
    "\n",
    "class TestGlsl(Scene):\n",
    "    def construct(self):\n",
    "\n",
    "        # square = Square(side_length=1)\n",
    "        colors = [RED, BLUE, YELLOW]\n",
    "        palette = color_gradient(colors, 10)\n",
    "        grp = VGroup(*[\n",
    "            Square(color=c, fill_opacity=1)\n",
    "            for c in palette\n",
    "        ]).arrange(RIGHT).set(width=config.frame_width-1)\n",
    "        sq = Square(side_length=2).set_color_by_gradient(colors)\n",
    "        self.add( sq,grp)\n",
    "\n",
    "        my_square = Square(side_length=2)\n",
    "        my_square.set_color_by_gradient(colors)\n",
    "        my_square.set_sheen_direction(LEFT) # Sets the gradient to go from left to right\n",
    "        # self.play(Create(my_square))\n",
    "\n",
    "        square = Square() # Create a square\n",
    "\n",
    "        # Get the coordinates of the corners\n",
    "        DL = square.get_bottom() + square.get_left()\n",
    "        DR = square.get_bottom() + square.get_right()\n",
    "        UL = square.get_top() + square.get_left()\n",
    "        UR = square.get_top() + square.get_right()\n",
    "\n",
    "        # Create dots at the corners and color them\n",
    "        bottom_left_dot = Dot(DL).set_color_by_gradient(colors)\n",
    "        bottom_right_dot = Dot(DR, color=GREEN)\n",
    "        upper_left_dot = Dot(UL, color=BLUE)\n",
    "        upper_right_dot = Dot(UR, color=YELLOW)\n",
    "\n",
    "        # Add everything to the scene\n",
    "        self.add(square, bottom_left_dot, bottom_right_dot, upper_left_dot, upper_right_dot)\n",
    "\n",
    "        dashed_1 = DashedLine(\n",
    "            start=LEFT * 2,\n",
    "            end=RIGHT * 2,\n",
    "            dash_length=0.8  # Longer dashes\n",
    "        ).shift(UP*2)\n",
    "\n",
    "        # Create a dashed line with a smaller dash-to-space ratio\n",
    "        dashed_2 = DashedLine(\n",
    "            start=LEFT * 2,\n",
    "            end=RIGHT * 2,\n",
    "            dashed_ratio=0.3 # More space between dashes\n",
    "        ).shift(DOWN)\n",
    "\n",
    "        self.add(dashed_1, dashed_2)"
   ]
  },
  {
   "cell_type": "code",
   "execution_count": 16,
   "id": "ce00e9e0-9f9c-4cf0-8629-c0de0192c37f",
   "metadata": {},
   "outputs": [
    {
     "ename": "ModuleNotFoundError",
     "evalue": "No module named 'efinance'",
     "output_type": "error",
     "traceback": [
      "\u001b[0;31m---------------------------------------------------------------------------\u001b[0m",
      "\u001b[0;31mModuleNotFoundError\u001b[0m                       Traceback (most recent call last)",
      "Cell \u001b[0;32mIn[16], line 1\u001b[0m\n\u001b[0;32m----> 1\u001b[0m \u001b[38;5;28;01mimport\u001b[39;00m\u001b[38;5;250m \u001b[39m\u001b[38;5;21;01mefinance\u001b[39;00m\u001b[38;5;250m \u001b[39m\u001b[38;5;28;01mas\u001b[39;00m\u001b[38;5;250m \u001b[39m\u001b[38;5;21;01mef\u001b[39;00m\n",
      "\u001b[0;31mModuleNotFoundError\u001b[0m: No module named 'efinance'"
     ]
    }
   ],
   "source": [
    "import efinance as ef"
   ]
  },
  {
   "cell_type": "code",
   "execution_count": 17,
   "id": "6bceda81-854d-4f6d-a925-f88f82e28935",
   "metadata": {},
   "outputs": [
    {
     "ename": "NameError",
     "evalue": "name 'ef' is not defined",
     "output_type": "error",
     "traceback": [
      "\u001b[0;31m---------------------------------------------------------------------------\u001b[0m",
      "\u001b[0;31mNameError\u001b[0m                                 Traceback (most recent call last)",
      "Cell \u001b[0;32mIn[17], line 2\u001b[0m\n\u001b[1;32m      1\u001b[0m stock_code \u001b[38;5;241m=\u001b[39m \u001b[38;5;124m'\u001b[39m\u001b[38;5;124m300414\u001b[39m\u001b[38;5;124m'\u001b[39m\n\u001b[0;32m----> 2\u001b[0m \u001b[43mef\u001b[49m\u001b[38;5;241m.\u001b[39mstock\u001b[38;5;241m.\u001b[39mget_quote_history(stock_code)\n\u001b[1;32m      4\u001b[0m \u001b[38;5;66;03m# Export the specific day data to an Excel file\u001b[39;00m\n\u001b[1;32m      5\u001b[0m specific_day_data\u001b[38;5;241m.\u001b[39mto_excel(\u001b[38;5;124m'\u001b[39m\u001b[38;5;124mspecific_day_stock_data.xlsx\u001b[39m\u001b[38;5;124m'\u001b[39m, index\u001b[38;5;241m=\u001b[39m\u001b[38;5;28;01mFalse\u001b[39;00m)\n",
      "\u001b[0;31mNameError\u001b[0m: name 'ef' is not defined"
     ]
    }
   ],
   "source": [
    "\n",
    "stock_code = '300414'\n",
    "ef.stock.get_quote_history(stock_code)\n",
    "\n",
    "# Export the specific day data to an Excel file\n",
    "specific_day_data.to_excel('specific_day_stock_data.xlsx', index=False)"
   ]
  },
  {
   "cell_type": "code",
   "execution_count": null,
   "id": "768aaf8d-9f0d-4ed2-9cb9-0849ba48bf28",
   "metadata": {},
   "outputs": [],
   "source": []
  }
 ],
 "metadata": {
  "kernelspec": {
   "display_name": "Python 3 (ipykernel)",
   "language": "python",
   "name": "python3"
  },
  "language_info": {
   "codemirror_mode": {
    "name": "ipython",
    "version": 3
   },
   "file_extension": ".py",
   "mimetype": "text/x-python",
   "name": "python",
   "nbconvert_exporter": "python",
   "pygments_lexer": "ipython3",
   "version": "3.11.11"
  }
 },
 "nbformat": 4,
 "nbformat_minor": 5
}
